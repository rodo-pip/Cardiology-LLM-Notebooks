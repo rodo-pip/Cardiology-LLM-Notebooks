{
 "cells": [
  {
   "cell_type": "code",
   "execution_count": null,
   "id": "83d456a5-b7c6-4b3a-98ba-c255d339d085",
   "metadata": {},
   "outputs": [],
   "source": [
    "import json\n",
    "import re\n",
    "from collections import Counter\n",
    "\n",
    "\n",
    "answers = []\n",
    "one_example = None\n",
    "\n",
    "with open(\"training_data.jsonl\", \"r\", encoding=\"utf-8\") as f:\n",
    "    for line in f:\n",
    "        d = json.loads(line)\n",
    "        if one_example is None:\n",
    "            one_example = d\n",
    "        letter = get_letter(d.get(\"response\", \"\"))\n",
    "        if letter:\n",
    "            answers.append(letter)\n",
    "\n",
    "print(\"Παράδειγμα δεδομένων:\")\n",
    "print(one_example)\n",
    "\n",
    "\n",
    "def get_letter(text):\n",
    "    m = re.search(r\"Answer Letter:\\s*([A-E])\", text)\n",
    "    if m:\n",
    "        return m.group(1)\n",
    "print(\"\\nΣύνολο απαντήσεων:\", len(answers))\n",
    "ordered_counts = {letter: counts.get(letter, 0) for letter in [\"A\",\"B\",\"C\",\"D\",\"E\"]}\n",
    "print(\"\\nΚατανομή:\", ordered_counts)\n",
    "\n"
   ]
  },
  {
   "cell_type": "code",
   "execution_count": null,
   "id": "389638a8-6145-4862-abd3-9a7860c322d7",
   "metadata": {},
   "outputs": [],
   "source": [
    "!pip install openpyxl\n"
   ]
  },
  {
   "cell_type": "code",
   "execution_count": null,
   "id": "a416f819-ecd1-4cbf-a873-b6c57d07107a",
   "metadata": {},
   "outputs": [],
   "source": [
    "# Προσθήκη βιβλιοθηκών\n",
    "import json, re\n",
    "from collections import Counter\n",
    "import pandas as pd\n",
    "import matplotlib.pyplot as plt\n",
    "from pathlib import Path"
   ]
  },
  {
   "cell_type": "code",
   "execution_count": null,
   "id": "d60ddf22-056f-4c3a-84b7-97717e636aa1",
   "metadata": {},
   "outputs": [],
   "source": [
    "CHOICES = [\"A\",\"B\",\"C\",\"D\",\"E\"]\n",
    "COLORS  = [\"#1f77b4\",\"#ff7f0e\",\"#2ca02c\",\"#d62728\",\"#9467bd\"]  \n",
    "\n",
    "# Συνάρτηση που διαβάζει τα training δεδομένα από αρχείο .jsonl και εξάγει τα γράμματα από το πεδίο Response\n",
    "def load_train_letters(jsonl_path):\n",
    "    pat = re.compile(r\"Answer\\s*Letter\\s*[:\\-]?\\s*([A-E])\", flags=re.IGNORECASE)\n",
    "    letters = []\n",
    "    with open(jsonl_path, \"r\", encoding=\"utf-8\") as f:\n",
    "        for line in f:\n",
    "            d = json.loads(line)\n",
    "            m = pat.search(d.get(\"response\",\"\") or \"\")\n",
    "            if m:\n",
    "                letters.append(m.group(1).upper())\n",
    "    return letters\n",
    "\n",
    "# Συνάρτηση που διαβάζει τα testing δεδομένα από αρχείο .csv\n",
    "def load_test_letters(path, col_idx=0):\n",
    "    p = Path(path)\n",
    "    if p.suffix.lower() == \".csv\":\n",
    "        s = pd.read_csv(p, header=None).iloc[:, col_idx]\n",
    "    else:\n",
    "        s = pd.read_excel(p, header=None).iloc[:, col_idx]\n",
    "    letters = s.astype(str).str.strip().str.upper()\n",
    "    return [l for l in letters if l in CHOICES]\n",
    "\n",
    "# Συνάρτηση δημιουργίας ραβδογράμματος συχνοτήτων από την λίστα των γραμμάτων\n",
    "def plot_counts(letters, title):\n",
    "    counts = Counter(letters)\n",
    "    values = [counts.get(c, 0) for c in CHOICES]\n",
    "\n",
    "    plt.figure(figsize=(6,4))\n",
    "    bars = plt.bar(CHOICES, values, color=COLORS)\n",
    "    plt.title(title)\n",
    "    plt.xlabel(\"Γράμμα Σωστής Επιλογής\")\n",
    "    plt.ylabel(\"Πλήθος Εμφανίσεων\")\n",
    "    plt.ylim(0, max(values)+20)\n",
    "\n",
    "    # Τοποθέτηση αριθμών\n",
    "    for b, v in zip(bars, values):\n",
    "        plt.text(b.get_x()+b.get_width()/2, b.get_height()+0.5,\n",
    "                 f\"{v}\", ha=\"center\", va=\"bottom\", fontsize=10)\n",
    "    ax = plt.gca()\n",
    "    for spine in [\"top\",\"right\",\"left\",\"bottom\"]:\n",
    "        ax.spines[spine].set_visible(False)\n",
    "\n",
    "    plt.tight_layout()\n",
    "    plt.show()\n",
    "\n",
    "# Εφαρμογή των συναρτήσεων στα υπό εξέταση δεδομένα\n",
    "train_letters = load_train_letters(\"training_data.jsonl\")\n",
    "test_letters = load_test_letters(\"correct_letters_test-data.xlsx\", col_idx=0)\n",
    "plot_counts(train_letters, \"Συχνότητα σωστών απαντήσεων (A–E) στο Training Dataset\")\n",
    "plot_counts(test_letters, \"Συχνότητα σωστών απαντήσεων (A–E) στο Testing Dataset\")\n"
   ]
  },
  {
   "cell_type": "code",
   "execution_count": null,
   "id": "52abffca-7d55-437f-ae84-0a857f3ffded",
   "metadata": {},
   "outputs": [],
   "source": []
  }
 ],
 "metadata": {
  "kernelspec": {
   "display_name": "Python [conda env:base] *",
   "language": "python",
   "name": "conda-base-py"
  },
  "language_info": {
   "codemirror_mode": {
    "name": "ipython",
    "version": 3
   },
   "file_extension": ".py",
   "mimetype": "text/x-python",
   "name": "python",
   "nbconvert_exporter": "python",
   "pygments_lexer": "ipython3",
   "version": "3.12.7"
  }
 },
 "nbformat": 4,
 "nbformat_minor": 5
}
