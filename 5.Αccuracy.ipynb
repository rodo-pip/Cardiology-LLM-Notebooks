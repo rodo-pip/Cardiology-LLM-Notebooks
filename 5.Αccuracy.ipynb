{
 "cells": [
  {
   "cell_type": "code",
   "execution_count": null,
   "id": "2b200e5a-ddc5-48d7-be8c-9b95273439e4",
   "metadata": {
    "tags": []
   },
   "outputs": [],
   "source": [
    "import pandas as pd\n",
    "import matplotlib.pyplot as plt\n",
    "import seaborn as sns\n",
    "\n",
    "# Φόρτωση αρχείου excel\n",
    "df = pd.read_excel(\"RESULTS.xlsx\")  \n",
    "\n",
    "# Εμφάνιση των πρώτων πέντε γραμμών των δεδομένων\n",
    "display(df.head())\n",
    "\n",
    "# Πληροφορίες για την δομή του συνόλου δεδομένων\n",
    "df.info()\n",
    "\n",
    "# Υπολογισμό κατανομής σωστών και λάθος προβλέψεων\n",
    "true_false_counts = df[\"Correct Prediction\"].value_counts()\n",
    "\n",
    "# Display statistics\n",
    "print(\"\\nTrue/False Distribution:\")\n",
    "print(true_false_counts)\n",
    "\n",
    "# Δημιουργία Διαγράμματος \n",
    "plt.figure(figsize=(6, 4))\n",
    "sns.barplot(x=true_false_counts.index, y=true_false_counts.values, palette=[\"red\", \"green\"])\n",
    "plt.xticks([0, 1], [\"False (Incorrect)\", \"True (Correct)\"])\n",
    "plt.ylabel(\"Count\")\n",
    "plt.title(\"Correct vs Incorrect Predictions\")\n",
    "plt.show()"
   ]
  },
  {
   "cell_type": "code",
   "execution_count": null,
   "id": "3cc4c538-6434-484d-8039-a63da75b1fde",
   "metadata": {
    "tags": []
   },
   "outputs": [],
   "source": [
    "from sklearn.metrics import accuracy_score, precision_score, recall_score, f1_score, confusion_matrix\n",
    "\n",
    "# Ορισμός μεταβλητής στόχου (πραγματική τιμή)\n",
    "y_true = df[\"Correct Answer\"].astype(str).str.strip().str.upper().fillna(\"N/A\")\n",
    "# Ορισμός μεταβλητής πρόβλεψης (τιμή πρόβλεψης του μοντ΄έλου)\n",
    "y_pred = df[\"Model Answer\"].astype(str).str.strip().str.upper().fillna(\"NO_ANSWER\")\n",
    "\n",
    "# Υπολογισμός μετρικών\n",
    "accuracy = accuracy_score(y_true, y_pred)\n",
    "precision = precision_score(y_true, y_pred, average=\"macro\")\n",
    "recall = recall_score(y_true, y_pred, average=\"macro\")\n",
    "f1 = f1_score(y_true, y_pred, average=\"macro\")\n",
    "\n",
    "print(f\"Accuracy: {accuracy:.2%}\")\n",
    "print(f\"Precision: {precision:.2%}\")\n",
    "print(f\"Recall: {recall:.2%}\")\n",
    "print(f\"F1 Score: {f1:.2%}\")\n",
    "\n",
    "# Παραγωγή Confusion Matrix\n",
    "cm = confusion_matrix(y_true, y_pred, labels=sorted(set(y_true)))\n",
    "\n",
    "plt.figure(figsize=(8, 6))\n",
    "sns.heatmap(cm, annot=True, fmt='d', cmap='Blues', xticklabels=sorted(set(y_true)), yticklabels=sorted(set(y_true)))\n",
    "plt.xlabel(\"Predicted Label\")\n",
    "plt.ylabel(\"True Label\")\n",
    "plt.title(\"Confusion Matrix\")\n",
    "plt.show()\n",
    "\n",
    "# Δημιουργία ραβδογράμματος με τις μετρίκες\n",
    "metrics = {\"Accuracy\": accuracy, \"Precision\": precision, \"Recall\": recall, \"F1 Score\": f1}\n",
    "plt.figure(figsize=(8, 5))\n",
    "ax=sns.barplot(x=list(metrics.keys()), y=list(metrics.values()), palette=\"tab10\")\n",
    "plt.ylim(0, 1)\n",
    "plt.ylabel(\"Score\")\n",
    "plt.title(\"Model Performance Metrics\")\n",
    "\n",
    "for i, v in enumerate(metrics.values()):\n",
    "    ax.text(i, v + 0.02, f\"{v:.2%}\", ha='center', fontsize=12)\n",
    "\n",
    "plt.show()"
   ]
  },
  {
   "cell_type": "code",
   "execution_count": null,
   "id": "7479eeca-68b5-467c-ac73-613ae001921f",
   "metadata": {
    "tags": []
   },
   "outputs": [],
   "source": [
    "# # Υπολογισμός ακρίβειας με άμεση σύγκριση σωστής απάντησης και πρόβλεψης για έλεγχο\n",
    "match_percentage = (df['Correct Answer'] == df['Model Answer']).mean() * 100\n",
    "print(match_percentage)"
   ]
  },
  {
   "cell_type": "code",
   "execution_count": null,
   "id": "5c19b021-bf75-4c33-ae01-ed7359068255",
   "metadata": {},
   "outputs": [],
   "source": []
  },
  {
   "cell_type": "code",
   "execution_count": null,
   "id": "32fc8412-f1ba-47f9-8e1f-c42dce61aab8",
   "metadata": {},
   "outputs": [],
   "source": []
  }
 ],
 "metadata": {
  "kernelspec": {
   "display_name": "Python [conda env:base] *",
   "language": "python",
   "name": "conda-base-py"
  },
  "language_info": {
   "codemirror_mode": {
    "name": "ipython",
    "version": 3
   },
   "file_extension": ".py",
   "mimetype": "text/x-python",
   "name": "python",
   "nbconvert_exporter": "python",
   "pygments_lexer": "ipython3",
   "version": "3.12.7"
  }
 },
 "nbformat": 4,
 "nbformat_minor": 5
}
